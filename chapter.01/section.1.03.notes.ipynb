{
 "cells": [
  {
   "cell_type": "markdown",
   "metadata": {},
   "source": [
    "# 利用Python学习线性代数 -- 1.3 向量方程\n",
    "## 向量代数\n",
    "利用Numpy，可以很简单的实现向量加减、向量与标量的乘法。\n",
    "例如"
   ]
  },
  {
   "cell_type": "code",
   "execution_count": 1,
   "metadata": {},
   "outputs": [],
   "source": [
    "import numpy as np\n",
    "from matplotlib import pyplot as plt"
   ]
  },
  {
   "cell_type": "code",
   "execution_count": 2,
   "metadata": {},
   "outputs": [
    {
     "name": "stdout",
     "output_type": "stream",
     "text": [
      "[[ 1]\n",
      " [-2]]\n",
      "[[ 2]\n",
      " [-5]]\n",
      "[[ 4]\n",
      " [-8]]\n",
      "[[-6]\n",
      " [15]]\n",
      "[[-2]\n",
      " [ 7]]\n"
     ]
    }
   ],
   "source": [
    "# 例1\n",
    "u = np.array([[1, -2]]).T\n",
    "v = np.array([[2, -5]]).T\n",
    "print(u)\n",
    "print(v)\n",
    "print(4*u)\n",
    "print(-3*v)\n",
    "print(4*u - 3*v)"
   ]
  },
  {
   "cell_type": "markdown",
   "metadata": {},
   "source": [
    "但是，为了加深理解，这里不借用Numpy，而是用原生的Python类型实现一个向量类，实现基本向量代数。"
   ]
  },
  {
   "cell_type": "code",
   "execution_count": 3,
   "metadata": {},
   "outputs": [],
   "source": [
    "class Vector:\n",
    "    \"\"\"用Python实现一个向量类，不使用Numpy.\"\"\"\n",
    "    def __init__(self, data:list):\n",
    "        \"\"\"data应该是一个列表\"\"\"\n",
    "        if not isinstance(data, list):\n",
    "            raise ValueError()\n",
    "        self._data = data\n",
    "    \n",
    "    def __repr__(self):\n",
    "        return \"[\" + \"\\n\".join(str(x) for x in self._data) + \"]\""
   ]
  },
  {
   "cell_type": "markdown",
   "metadata": {},
   "source": [
    "Vector类还没有实现向量代数，只支持根据一个列表构造一个Vector类，支持打印成一列数字。\n",
    "例如"
   ]
  },
  {
   "cell_type": "code",
   "execution_count": 4,
   "metadata": {},
   "outputs": [
    {
     "name": "stdout",
     "output_type": "stream",
     "text": [
      "[1\n",
      "-2]\n",
      "[2\n",
      "-5]\n"
     ]
    },
    {
     "ename": "TypeError",
     "evalue": "unsupported operand type(s) for *: 'int' and 'Vector'",
     "output_type": "error",
     "traceback": [
      "\u001b[0;31m----------------------------------------------------------\u001b[0m",
      "\u001b[0;31mTypeError\u001b[0m                Traceback (most recent call last)",
      "\u001b[0;32m<ipython-input-4-175b987c6ccb>\u001b[0m in \u001b[0;36m<module>\u001b[0;34m\u001b[0m\n\u001b[1;32m      4\u001b[0m \u001b[0mprint\u001b[0m\u001b[0;34m(\u001b[0m\u001b[0mv\u001b[0m\u001b[0;34m)\u001b[0m\u001b[0;34m\u001b[0m\u001b[0;34m\u001b[0m\u001b[0m\n\u001b[1;32m      5\u001b[0m \u001b[0;31m# 以下运算不支持\u001b[0m\u001b[0;34m\u001b[0m\u001b[0;34m\u001b[0m\u001b[0;34m\u001b[0m\u001b[0m\n\u001b[0;32m----> 6\u001b[0;31m \u001b[0mprint\u001b[0m\u001b[0;34m(\u001b[0m\u001b[0;36m4\u001b[0m\u001b[0;34m*\u001b[0m\u001b[0mu\u001b[0m\u001b[0;34m)\u001b[0m\u001b[0;34m\u001b[0m\u001b[0;34m\u001b[0m\u001b[0m\n\u001b[0m\u001b[1;32m      7\u001b[0m \u001b[0mprint\u001b[0m\u001b[0;34m(\u001b[0m\u001b[0;34m-\u001b[0m\u001b[0;36m3\u001b[0m\u001b[0;34m*\u001b[0m\u001b[0mv\u001b[0m\u001b[0;34m)\u001b[0m\u001b[0;34m\u001b[0m\u001b[0;34m\u001b[0m\u001b[0m\n\u001b[1;32m      8\u001b[0m \u001b[0mprint\u001b[0m\u001b[0;34m(\u001b[0m\u001b[0;36m4\u001b[0m\u001b[0;34m*\u001b[0m\u001b[0mu\u001b[0m \u001b[0;34m-\u001b[0m \u001b[0;36m3\u001b[0m\u001b[0;34m*\u001b[0m\u001b[0mv\u001b[0m\u001b[0;34m)\u001b[0m\u001b[0;34m\u001b[0m\u001b[0;34m\u001b[0m\u001b[0m\n",
      "\u001b[0;31mTypeError\u001b[0m: unsupported operand type(s) for *: 'int' and 'Vector'"
     ]
    }
   ],
   "source": [
    "u = Vector([1, -2])\n",
    "v = Vector([2, -5])\n",
    "print(u)\n",
    "print(v)\n",
    "# 以下运算不支持\n",
    "print(4*u)\n",
    "print(-3*v)\n",
    "print(4*u - 3*v)"
   ]
  },
  {
   "cell_type": "markdown",
   "metadata": {},
   "source": [
    "然后增加如下代数计算功能：\n",
    "    1. 向量加法: **u** + **v** 是 **u** 和 **v** 对应元素想家所得的向量\n",
    "    2. 标量乘法: c **u** 是 **u** 的每个元素乘以c\n",
    "    3. 向量减法: **u** - **v** = **u** + (-**v**)\n",
    "\n",
    "另外，还可以扩展标量与向量的加法，向量与向量的乘法，矩阵乘法(Python中的@操作符)这三个操作。\n",
    "* 标量与向量的加法：将标量加到向量的每一个元素上，形成新的向量\n",
    "* 向量与向量的乘法：向量对应元素相乘，形成新的向量\n",
    "* 矩阵乘法：两个向量的点积，即对应元素相乘，将所有乘积加起来"
   ]
  },
  {
   "cell_type": "markdown",
   "metadata": {},
   "source": [
    "在Python中，重载+ - * / 等运算符，可以通过实现特殊方法来实现。\n",
    "例如，一个类的实例x与其它类的实例y相加，x+y，会调用x类的 __add__ 方法。\n",
    "更多细节可以参考Python的[数据模型文档](https://docs.python.org/3/reference/datamodel.html)。"
   ]
  },
  {
   "cell_type": "code",
   "execution_count": 5,
   "metadata": {},
   "outputs": [],
   "source": [
    "class Vector:\n",
    "    \"\"\"用Python实现一个向量类，不使用Numpy.\"\"\"\n",
    "    def __init__(self, data:(list, tuple)):\n",
    "        \"\"\"data应该是一个列表或元组\"\"\"\n",
    "        self._data = tuple(data)\n",
    "    \n",
    "    def __getitem__(self, index):\n",
    "        \"\"\"使下标语法和迭代生效：即x[i]有效.\"\"\"\n",
    "        return self._data[index]\n",
    "    \n",
    "    def __radd__(self, other):\n",
    "        \"\"\"标量或向量other与向量self相加，等价于self+other.\"\"\"\n",
    "        return self + other\n",
    "    \n",
    "    def __add__(self, other):\n",
    "        \"\"\"\n",
    "        加法，返回元素相加后的Vector.\n",
    "        \n",
    "        若other是Vector，list或tuple，返回元素相加的结果；\n",
    "        若other 是标量，则扩展为值全为other的向量。\n",
    "        与书不一致，与Numpy一致。\n",
    "        \"\"\" \n",
    "        if isinstance(other, (float, int)):\n",
    "            return Vector([other + i for i in self])\n",
    "        if isinstance(other, (Vector, list, tuple)):\n",
    "            return Vector(left + right for left, right \n",
    "                         in zip(self, other))\n",
    "        raise ValueError(\"the parameter is in wrong type\")\n",
    "    \n",
    "    def __sub__(self, other):\n",
    "        \"\"\"\n",
    "        减法，返回元素相加后的Vector.\n",
    "        \n",
    "        若other是Vector，list或tuple，返回元素相减的结果；\n",
    "        若other 是标量，则扩展为值全为other的向量。\n",
    "        与书不一致，与Numpy一致。\n",
    "        \"\"\" \n",
    "        if isinstance(other, (float, int)):\n",
    "            return Vector(i - other for i in self)\n",
    "        if isinstance(other, (Vector, list, tuple)):\n",
    "            return Vector(i - j for i, j \n",
    "                          in zip(self, other))\n",
    "        raise ValueError(\"the parameter is in wrong type\")\n",
    "        \n",
    "    def __rsub__(self, other):\n",
    "        \"\"\"标量或列表other与向量self相减，等价于self-other.\"\"\"\n",
    "        return other - self\n",
    "    \n",
    "    def __mul__(self, other):\n",
    "        \"\"\"\n",
    "        乘法，返回元素相乘后的Vector.\n",
    "        \n",
    "        若other 是标量，则为标量乘向量。\n",
    "        若other是Vector，list或tuple，返回元素相乘的结果；\n",
    "        与书不一致，与Numpy一致。\n",
    "        \"\"\" \n",
    "        if isinstance(other, (float, int)):\n",
    "            return Vector(other * i for i in self)\n",
    "        if isinstance(other, (Vector, list, tuple)):\n",
    "            return Vector(i * j for i, j in zip(self, other))\n",
    "        raise ValueError(\"the parameter is in wrong type\")\n",
    "        \n",
    "    def __rmul__(self, other):\n",
    "        return self * other \n",
    "    \n",
    "    def __matmul__(self, other):\n",
    "        if isinstance(other, (Vector, list, tuple)):\n",
    "            return sum(i * j for i, j in zip(self, other))\n",
    "        raise ValueError(\"the parameter is in wrong type\")\n",
    "    \n",
    "    def __rmatmul__(self, other):\n",
    "        return self @ other\n",
    "\n",
    "    def __repr__(self):\n",
    "        return \"[\" + \"\\n \".join(str(x) for x in self._data) + \"]\""
   ]
  },
  {
   "cell_type": "code",
   "execution_count": 6,
   "metadata": {},
   "outputs": [
    {
     "name": "stdout",
     "output_type": "stream",
     "text": [
      "[1\n",
      " -2]\n",
      "[2\n",
      " -5]\n",
      "[4\n",
      " -8]\n",
      "[-6\n",
      " 15]\n",
      "[-2\n",
      " 7]\n"
     ]
    }
   ],
   "source": [
    "u = Vector([1, -2])\n",
    "v = Vector([2, -5])\n",
    "print(u)\n",
    "print(v)\n",
    "print(4*u)\n",
    "print(-3*v)\n",
    "print(4*u - 3*v)"
   ]
  },
  {
   "cell_type": "code",
   "execution_count": 7,
   "metadata": {},
   "outputs": [
    {
     "data": {
      "text/plain": [
       "12"
      ]
     },
     "execution_count": 7,
     "metadata": {},
     "output_type": "execute_result"
    }
   ],
   "source": [
    "u @ v"
   ]
  },
  {
   "cell_type": "code",
   "execution_count": 8,
   "metadata": {},
   "outputs": [
    {
     "data": {
      "text/plain": [
       "12"
      ]
     },
     "execution_count": 8,
     "metadata": {},
     "output_type": "execute_result"
    }
   ],
   "source": [
    "v @ u"
   ]
  },
  {
   "cell_type": "code",
   "execution_count": null,
   "metadata": {},
   "outputs": [],
   "source": []
  },
  {
   "cell_type": "code",
   "execution_count": null,
   "metadata": {},
   "outputs": [],
   "source": []
  }
 ],
 "metadata": {
  "kernelspec": {
   "display_name": "'Python Interactive'",
   "language": "python",
   "name": "569f7b2f-1bb4-46a0-916e-0534905100c5"
  },
  "language_info": {
   "codemirror_mode": {
    "name": "ipython",
    "version": 3
   },
   "file_extension": ".py",
   "mimetype": "text/x-python",
   "name": "python",
   "nbconvert_exporter": "python",
   "pygments_lexer": "ipython3",
   "version": "3.7.4"
  }
 },
 "nbformat": 4,
 "nbformat_minor": 2
}
